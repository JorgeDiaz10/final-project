{
 "cells": [
  {
   "cell_type": "code",
   "execution_count": 1,
   "id": "1cdd094e",
   "metadata": {},
   "outputs": [],
   "source": [
    "import pandas as pd\n",
    "import numpy as np\n",
    "import requests\n",
    "import os\n",
    "import shutil\n",
    "from bs4 import BeautifulSoup\n",
    "from selenium import webdriver"
   ]
  },
  {
   "cell_type": "code",
   "execution_count": 2,
   "id": "300dbf8d",
   "metadata": {},
   "outputs": [],
   "source": [
    "def mvp():\n",
    "    mvps = pd.read_csv('data/mvp.csv')\n",
    "    return mvps[['Player', 'Pts Won', 'Pts Max', 'Share', 'Year']]"
   ]
  },
  {
   "cell_type": "code",
   "execution_count": 4,
   "id": "4220a2ea",
   "metadata": {},
   "outputs": [],
   "source": [
    "def players():\n",
    "    players = pd.read_csv(\"data/players.csv\")\n",
    "    players = players.drop(columns = ['Unnamed: 0', 'Rk'])\n",
    "    players['Player'] = players['Player'].str.replace('*','')\n",
    "    if players.shape[0]==1:\n",
    "        return players\n",
    "    else:\n",
    "        players = players[players['Tm'] == 'TOT']\n",
    "        players['Tm'] = players.iloc[-1,:]['Tm']\n",
    "    players = players.groupby(['Player', 'Year']).apply(players)\n",
    "    players.index = players.index.droplevel()\n",
    "    players.index = players.index.droplevel()\n",
    "    df_combinado = players.merge(mvps, how = 'outer', on = ['Player', 'Year'])\n",
    "    df_combinado[['Pts Won', 'Pts Max', 'Share']] = df_combinado[['Pts Won', 'Pts Max', 'Share']].fillna(0)\n",
    "    df_combinado = df_combinado.apply(pd.to_numeric, errors = 'ignore')\n",
    "    return df_combinado"
   ]
  },
  {
   "cell_type": "code",
   "execution_count": 12,
   "id": "0552c80b",
   "metadata": {},
   "outputs": [],
   "source": [
    "def nicknames():\n",
    "    nicknames = pd.read_csv('data/nicknames.txt')\n",
    "    nicknames = {}\n",
    "    with open(\"data/nicknames.txt\") as f:\n",
    "        lines = f.readlines()\n",
    "        for line in lines[1:]:\n",
    "            abreviado,name = line.replace(\"\\n\",\"\").split(\",\")\n",
    "            nicknames[abreviado] = name\n",
    "    df_combinado[\"Team\"] = df_combinado[\"Tm\"].map(nicknames)\n",
    "    return df_combinado\n"
   ]
  },
  {
   "cell_type": "code",
   "execution_count": 14,
   "id": "64682afb",
   "metadata": {},
   "outputs": [],
   "source": [
    "def teams():\n",
    "    teams = pd.read_csv('data/teams.csv')\n",
    "    teams = teams[~teams['W'].str.contains('Division')]\n",
    "    teams['Team'] = teams['Team'].str.replace('*', '')\n",
    "    teams['GB'] = teams['GB'].replace('—', '0')\n",
    "    teams = teams.drop(columns = ['Unnamed: 0'])\n",
    "    return teams"
   ]
  },
  {
   "cell_type": "code",
   "execution_count": 23,
   "id": "ec25738c",
   "metadata": {},
   "outputs": [],
   "source": [
    "def final_stats():\n",
    "    df_final = df_combinado.merge(teams, how = 'outer', on = ['Team','Year'])\n",
    "    df_final = df_final.apply(pd.to_numeric, errors = 'ignore')\n",
    "    return df_final"
   ]
  }
 ],
 "metadata": {
  "kernelspec": {
   "display_name": "Python [conda env:ironhack]",
   "language": "python",
   "name": "conda-env-ironhack-py"
  },
  "language_info": {
   "codemirror_mode": {
    "name": "ipython",
    "version": 3
   },
   "file_extension": ".py",
   "mimetype": "text/x-python",
   "name": "python",
   "nbconvert_exporter": "python",
   "pygments_lexer": "ipython3",
   "version": "3.7.11"
  }
 },
 "nbformat": 4,
 "nbformat_minor": 5
}
