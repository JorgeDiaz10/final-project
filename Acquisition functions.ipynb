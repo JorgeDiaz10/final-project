{
 "cells": [
  {
   "cell_type": "code",
   "execution_count": 4,
   "id": "86f85b04",
   "metadata": {},
   "outputs": [],
   "source": [
    "import pandas as pd\n",
    "import numpy as np\n",
    "import requests\n",
    "import os\n",
    "import shutil\n",
    "from bs4 import BeautifulSoup\n",
    "from selenium import webdriver"
   ]
  },
  {
   "cell_type": "code",
   "execution_count": 1,
   "id": "992a53e0",
   "metadata": {},
   "outputs": [
    {
     "ename": "NameError",
     "evalue": "name 'selected_year' is not defined",
     "output_type": "error",
     "traceback": [
      "\u001b[0;31m---------------------------------------------------------------------------\u001b[0m",
      "\u001b[0;31mNameError\u001b[0m                                 Traceback (most recent call last)",
      "\u001b[0;32m/var/folders/n_/2_zg0_1j1_lc2bvcp1pk1qnc0000gn/T/ipykernel_92877/790112446.py\u001b[0m in \u001b[0;36m<module>\u001b[0;34m\u001b[0m\n\u001b[1;32m     21\u001b[0m         \u001b[0;31m#mvps = mvps.to_csv(\"data/mvp.csv\")\u001b[0m\u001b[0;34m\u001b[0m\u001b[0;34m\u001b[0m\u001b[0;34m\u001b[0m\u001b[0m\n\u001b[1;32m     22\u001b[0m     \u001b[0;32mreturn\u001b[0m \u001b[0mmvps\u001b[0m\u001b[0;34m\u001b[0m\u001b[0;34m\u001b[0m\u001b[0m\n\u001b[0;32m---> 23\u001b[0;31m \u001b[0mmvps\u001b[0m \u001b[0;34m=\u001b[0m \u001b[0mmvp_df\u001b[0m\u001b[0;34m(\u001b[0m\u001b[0mselected_year\u001b[0m\u001b[0;34m)\u001b[0m\u001b[0;34m\u001b[0m\u001b[0;34m\u001b[0m\u001b[0m\n\u001b[0m",
      "\u001b[0;31mNameError\u001b[0m: name 'selected_year' is not defined"
     ]
    }
   ],
   "source": [
    "def mvp_df():\n",
    "    years = list(range(1995,2022))\n",
    "    url_start = \"https://www.basketball-reference.com/awards/awards_{}.html\"\n",
    "    for year in years:\n",
    "        url = url_start.format(year)\n",
    "        data = requests.get(url)\n",
    "        with open(\"mvp/{}.html\".format(year), \"w+\") as f:\n",
    "            f.write(data.text)\n",
    "    dfs = []\n",
    "    for year in years:\n",
    "        with open(\"mvp/{}.html\".format(year)) as f:\n",
    "            page = f.read()\n",
    "    \n",
    "        soup = BeautifulSoup(page, 'html.parser')\n",
    "        soup.find('tr', class_=\"over_header\").decompose()\n",
    "        mvp_table = soup.find_all(id=\"mvp\")[0]\n",
    "        mvp_df = pd.read_html(str(mvp_table))[0]\n",
    "        mvp_df[\"Year\"] = year\n",
    "        dfs.append(mvp_df)\n",
    "        mvps = pd.concat(dfs)\n",
    "        #mvps = mvps.to_csv(\"data/mvp.csv\") \n",
    "    return mvps\n",
    "mvps = mvp_df()\n"
   ]
  },
  {
   "cell_type": "code",
   "execution_count": null,
   "id": "3de98805",
   "metadata": {},
   "outputs": [],
   "source": []
  },
  {
   "cell_type": "code",
   "execution_count": 19,
   "id": "3bd6e9e8",
   "metadata": {},
   "outputs": [],
   "source": []
  },
  {
   "cell_type": "code",
   "execution_count": 26,
   "id": "ba894315",
   "metadata": {},
   "outputs": [],
   "source": [
    "def teams_df():\n",
    "    years = list(range(1995,2022))\n",
    "    team_stats_url = \"https://www.basketball-reference.com/leagues/NBA_{}_standings.html\"\n",
    "    for year in years:\n",
    "        url = team_stats_url.format(year)\n",
    "        data = requests.get(url)\n",
    "        with open(\"Standings/{}.html\".format(year), \"w+\") as f:\n",
    "            f.write(data.text)\n",
    "    dataframes = []\n",
    "    for year in years:\n",
    "        with open(\"Standings/{}.html\".format(year)) as f:\n",
    "            page = f.read()\n",
    "        soup = BeautifulSoup(page, 'html.parser')\n",
    "        soup.find('tr', class_=\"thead\").decompose()\n",
    "        e_table = soup.find_all(id=\"divs_standings_E\")[0]\n",
    "        e_df = pd.read_html(str(e_table))[0]\n",
    "        e_df[\"Year\"] = year\n",
    "        e_df[\"Team\"] = e_df[\"Eastern Conference\"]\n",
    "        del e_df[\"Eastern Conference\"]\n",
    "        dataframes.append(e_df)\n",
    "        w_table = soup.find_all(id=\"divs_standings_W\")[0]\n",
    "        w_df = pd.read_html(str(w_table))[0]\n",
    "        w_df[\"Year\"] = year\n",
    "        w_df[\"Team\"] = w_df[\"Western Conference\"]\n",
    "        del w_df[\"Western Conference\"]\n",
    "        dataframes.append(w_df)\n",
    "        teams = pd.concat(dataframes)\n",
    "        #teams = teams.to_csv(\"teams.csv\")\n",
    "    return teams"
   ]
  },
  {
   "cell_type": "code",
   "execution_count": null,
   "id": "32a9197f",
   "metadata": {},
   "outputs": [],
   "source": []
  },
  {
   "cell_type": "code",
   "execution_count": 28,
   "id": "790d939e",
   "metadata": {},
   "outputs": [],
   "source": [
    "def players_df():\n",
    "    players = list(range(1995, 2023))\n",
    "    url_2 = 'https://www.basketball-reference.com/leagues/NBA_{}_per_game.html'\n",
    "    for player in players:\n",
    "        url_2_final = url_2.format(player)\n",
    "        data = requests.get(url_2_final)\n",
    "        with open ('Players/players{}.html'.format(player), 'w+') as file:\n",
    "            file.write(data.text)\n",
    "    dataframes = []\n",
    "    for player in players:\n",
    "        with open(\"Players/players{}.html\".format(player)) as f:\n",
    "            page = f.read()\n",
    "        soup = BeautifulSoup(page, 'html.parser')\n",
    "        soup.find('tr', class_=\"thead\").decompose()\n",
    "        players_list = soup.find_all(id=\"per_game_stats\")[0]\n",
    "        players_list_final = pd.read_html(str(players_list))[0]\n",
    "        players_list_final[\"Year\"] = player\n",
    "        dataframes.append(players_list_final)\n",
    "        players = pd.concat(dataframes)\n",
    "        #players = players.to_csv(\"players.csv\")\n",
    "    return players"
   ]
  },
  {
   "cell_type": "code",
   "execution_count": null,
   "id": "523a5fe0",
   "metadata": {},
   "outputs": [],
   "source": []
  },
  {
   "cell_type": "code",
   "execution_count": null,
   "id": "730dac91",
   "metadata": {},
   "outputs": [],
   "source": []
  }
 ],
 "metadata": {
  "interpreter": {
   "hash": "6788cd13919ba3892631ae781ffb4d3f7e927050106f80387680da92e1a5c8eb"
  },
  "kernelspec": {
   "display_name": "Python [conda env:ironhack]",
   "language": "python",
   "name": "python3"
  },
  "language_info": {
   "codemirror_mode": {
    "name": "ipython",
    "version": 3
   },
   "file_extension": ".py",
   "mimetype": "text/x-python",
   "name": "python",
   "nbconvert_exporter": "python",
   "pygments_lexer": "ipython3",
   "version": "3.7.11"
  }
 },
 "nbformat": 4,
 "nbformat_minor": 5
}
